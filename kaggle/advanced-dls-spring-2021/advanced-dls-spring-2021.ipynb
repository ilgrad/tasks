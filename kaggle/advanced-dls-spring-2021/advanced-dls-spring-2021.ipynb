{
 "cells": [
  {
   "cell_type": "markdown",
   "metadata": {},
   "source": [
    "## Предсказание оттока пользователей (весна 2021)\n",
    "https://www.kaggle.com/c/advanced-dls-spring-2021/\n",
    "\n",
    "Это соревнование является домашним заданием к 3 модулю продвинутого потока DLS (весна 2021)\n",
    "\n",
    "Вам предстоит научитсья моделировать отток клиентов телеком компании. Эта задача очень важна на практике и алгоритмы для ее решения используются в реальных телеком компаниях, ведь если мы знаем, что клиент собирается уйти от нас, то мы попытаться удержать его, предложив какие-то бонусы.\n",
    "\n",
    "На станице с данными вы можете загрузить два файла - train.csv (содержит колонки признаков и целевую переменную) и test.csv (содержит только колонки признаков).\n",
    "\n",
    "В качестве ответа вам необходимо загрузить предсказания вероятностей ухода клиентов для test.csv. Пример файла с предскзааниями - submission.csv.\n",
    "\n",
    "Названия признаков и целевой пременной есть в baseline ноутбуке. (baseline - базовое решение, с которым обычно сравниают более продвинутые алгоритмы.)\n",
    "\n",
    "\n",
    "В данном соревновании решения будут сравниваться по метрике ROC-AUC. Для получения полного балла за соревнование не достаточно получить высокое значение метрики, подробные критерии есть в baseline ноутбуке и на stepik."
   ]
  },
  {
   "cell_type": "markdown",
   "metadata": {},
   "source": [
    "### Загрузка данных"
   ]
  },
  {
   "cell_type": "code",
   "execution_count": 2,
   "metadata": {},
   "outputs": [
    {
     "name": "stdout",
     "output_type": "stream",
     "text": [
      "Downloading advanced-dls-spring-2021.zip to /home/ilgrad/Desktop/development/jupyter/stepik_dl/hw8.1_kaggle\n",
      "  0%|                                                | 0.00/115k [00:00<?, ?B/s]\n",
      "100%|████████████████████████████████████████| 115k/115k [00:00<00:00, 1.71MB/s]\n"
     ]
    }
   ],
   "source": [
    "!kaggle competitions download -c advanced-dls-spring-2021"
   ]
  },
  {
   "cell_type": "code",
   "execution_count": 3,
   "metadata": {},
   "outputs": [
    {
     "name": "stdout",
     "output_type": "stream",
     "text": [
      "Archive:  advanced-dls-spring-2021.zip\n",
      "  inflating: data/submission.csv     \n",
      "  inflating: data/test.csv           \n",
      "  inflating: data/train.csv          \n"
     ]
    }
   ],
   "source": [
    "!unzip advanced-dls-spring-2021.zip -d data"
   ]
  },
  {
   "cell_type": "code",
   "execution_count": 1,
   "metadata": {},
   "outputs": [],
   "source": [
    "import pandas as pd\n",
    "import numpy as np\n",
    "from matplotlib import pyplot as plt\n",
    "import seaborn as sns\n",
    "from catboost import CatBoostClassifier, Pool\n",
    "from sklearn.model_selection import train_test_split\n",
    "from sklearn.metrics import roc_auc_score\n",
    "from sklearn.linear_model import LogisticRegression, LogisticRegressionCV\n",
    "from sklearn.model_selection import train_test_split, GridSearchCV\n",
    "from sklearn.preprocessing import StandardScaler, RobustScaler, LabelEncoder, OneHotEncoder\n",
    "from sklearn.pipeline import make_pipeline\n",
    "from sklearn.compose import ColumnTransformer\n",
    "from sklearn.impute import SimpleImputer\n",
    "import optuna\n",
    "from optuna.samplers import RandomSampler\n",
    "from optuna.distributions import IntUniformDistribution, UniformDistribution, CategoricalDistribution"
   ]
  },
  {
   "cell_type": "code",
   "execution_count": 2,
   "metadata": {},
   "outputs": [],
   "source": [
    "# прочитаем данные\n",
    "df_train = pd.read_csv('data/train.csv')\n",
    "df_test = pd.read_csv('data/test.csv')"
   ]
  },
  {
   "cell_type": "markdown",
   "metadata": {},
   "source": [
    "### Анализ данных"
   ]
  },
  {
   "cell_type": "code",
   "execution_count": 3,
   "metadata": {},
   "outputs": [
    {
     "data": {
      "text/plain": [
       "(5282, 20)"
      ]
     },
     "execution_count": 3,
     "metadata": {},
     "output_type": "execute_result"
    }
   ],
   "source": [
    "# размер данных\n",
    "df_train.shape"
   ]
  },
  {
   "cell_type": "code",
   "execution_count": 4,
   "metadata": {},
   "outputs": [
    {
     "data": {
      "text/html": [
       "<div>\n",
       "<style scoped>\n",
       "    .dataframe tbody tr th:only-of-type {\n",
       "        vertical-align: middle;\n",
       "    }\n",
       "\n",
       "    .dataframe tbody tr th {\n",
       "        vertical-align: top;\n",
       "    }\n",
       "\n",
       "    .dataframe thead th {\n",
       "        text-align: right;\n",
       "    }\n",
       "</style>\n",
       "<table border=\"1\" class=\"dataframe\">\n",
       "  <thead>\n",
       "    <tr style=\"text-align: right;\">\n",
       "      <th></th>\n",
       "      <th>ClientPeriod</th>\n",
       "      <th>MonthlySpending</th>\n",
       "      <th>TotalSpent</th>\n",
       "      <th>Sex</th>\n",
       "      <th>IsSeniorCitizen</th>\n",
       "      <th>HasPartner</th>\n",
       "      <th>HasChild</th>\n",
       "      <th>HasPhoneService</th>\n",
       "      <th>HasMultiplePhoneNumbers</th>\n",
       "      <th>HasInternetService</th>\n",
       "      <th>HasOnlineSecurityService</th>\n",
       "      <th>HasOnlineBackup</th>\n",
       "      <th>HasDeviceProtection</th>\n",
       "      <th>HasTechSupportAccess</th>\n",
       "      <th>HasOnlineTV</th>\n",
       "      <th>HasMovieSubscription</th>\n",
       "      <th>HasContractPhone</th>\n",
       "      <th>IsBillingPaperless</th>\n",
       "      <th>PaymentMethod</th>\n",
       "      <th>Churn</th>\n",
       "    </tr>\n",
       "  </thead>\n",
       "  <tbody>\n",
       "    <tr>\n",
       "      <th>0</th>\n",
       "      <td>55</td>\n",
       "      <td>19.50</td>\n",
       "      <td>1026.35</td>\n",
       "      <td>Male</td>\n",
       "      <td>0</td>\n",
       "      <td>Yes</td>\n",
       "      <td>Yes</td>\n",
       "      <td>Yes</td>\n",
       "      <td>No</td>\n",
       "      <td>No</td>\n",
       "      <td>No internet service</td>\n",
       "      <td>No internet service</td>\n",
       "      <td>No internet service</td>\n",
       "      <td>No internet service</td>\n",
       "      <td>No internet service</td>\n",
       "      <td>No internet service</td>\n",
       "      <td>One year</td>\n",
       "      <td>No</td>\n",
       "      <td>Mailed check</td>\n",
       "      <td>0</td>\n",
       "    </tr>\n",
       "    <tr>\n",
       "      <th>1</th>\n",
       "      <td>72</td>\n",
       "      <td>25.85</td>\n",
       "      <td>1872.2</td>\n",
       "      <td>Male</td>\n",
       "      <td>0</td>\n",
       "      <td>Yes</td>\n",
       "      <td>No</td>\n",
       "      <td>Yes</td>\n",
       "      <td>Yes</td>\n",
       "      <td>No</td>\n",
       "      <td>No internet service</td>\n",
       "      <td>No internet service</td>\n",
       "      <td>No internet service</td>\n",
       "      <td>No internet service</td>\n",
       "      <td>No internet service</td>\n",
       "      <td>No internet service</td>\n",
       "      <td>Two year</td>\n",
       "      <td>No</td>\n",
       "      <td>Credit card (automatic)</td>\n",
       "      <td>0</td>\n",
       "    </tr>\n",
       "    <tr>\n",
       "      <th>2</th>\n",
       "      <td>1</td>\n",
       "      <td>75.90</td>\n",
       "      <td>75.9</td>\n",
       "      <td>Male</td>\n",
       "      <td>0</td>\n",
       "      <td>No</td>\n",
       "      <td>No</td>\n",
       "      <td>Yes</td>\n",
       "      <td>No</td>\n",
       "      <td>Fiber optic</td>\n",
       "      <td>No</td>\n",
       "      <td>No</td>\n",
       "      <td>No</td>\n",
       "      <td>Yes</td>\n",
       "      <td>No</td>\n",
       "      <td>No</td>\n",
       "      <td>Month-to-month</td>\n",
       "      <td>Yes</td>\n",
       "      <td>Electronic check</td>\n",
       "      <td>1</td>\n",
       "    </tr>\n",
       "    <tr>\n",
       "      <th>3</th>\n",
       "      <td>32</td>\n",
       "      <td>79.30</td>\n",
       "      <td>2570</td>\n",
       "      <td>Female</td>\n",
       "      <td>1</td>\n",
       "      <td>Yes</td>\n",
       "      <td>No</td>\n",
       "      <td>Yes</td>\n",
       "      <td>Yes</td>\n",
       "      <td>Fiber optic</td>\n",
       "      <td>No</td>\n",
       "      <td>No</td>\n",
       "      <td>Yes</td>\n",
       "      <td>No</td>\n",
       "      <td>No</td>\n",
       "      <td>No</td>\n",
       "      <td>Month-to-month</td>\n",
       "      <td>No</td>\n",
       "      <td>Mailed check</td>\n",
       "      <td>0</td>\n",
       "    </tr>\n",
       "    <tr>\n",
       "      <th>4</th>\n",
       "      <td>60</td>\n",
       "      <td>115.25</td>\n",
       "      <td>6758.45</td>\n",
       "      <td>Female</td>\n",
       "      <td>0</td>\n",
       "      <td>Yes</td>\n",
       "      <td>Yes</td>\n",
       "      <td>Yes</td>\n",
       "      <td>Yes</td>\n",
       "      <td>Fiber optic</td>\n",
       "      <td>Yes</td>\n",
       "      <td>Yes</td>\n",
       "      <td>Yes</td>\n",
       "      <td>Yes</td>\n",
       "      <td>Yes</td>\n",
       "      <td>Yes</td>\n",
       "      <td>Two year</td>\n",
       "      <td>No</td>\n",
       "      <td>Credit card (automatic)</td>\n",
       "      <td>0</td>\n",
       "    </tr>\n",
       "  </tbody>\n",
       "</table>\n",
       "</div>"
      ],
      "text/plain": [
       "   ClientPeriod  MonthlySpending TotalSpent     Sex  IsSeniorCitizen  \\\n",
       "0            55            19.50    1026.35    Male                0   \n",
       "1            72            25.85     1872.2    Male                0   \n",
       "2             1            75.90       75.9    Male                0   \n",
       "3            32            79.30       2570  Female                1   \n",
       "4            60           115.25    6758.45  Female                0   \n",
       "\n",
       "  HasPartner HasChild HasPhoneService HasMultiplePhoneNumbers  \\\n",
       "0        Yes      Yes             Yes                      No   \n",
       "1        Yes       No             Yes                     Yes   \n",
       "2         No       No             Yes                      No   \n",
       "3        Yes       No             Yes                     Yes   \n",
       "4        Yes      Yes             Yes                     Yes   \n",
       "\n",
       "  HasInternetService HasOnlineSecurityService      HasOnlineBackup  \\\n",
       "0                 No      No internet service  No internet service   \n",
       "1                 No      No internet service  No internet service   \n",
       "2        Fiber optic                       No                   No   \n",
       "3        Fiber optic                       No                   No   \n",
       "4        Fiber optic                      Yes                  Yes   \n",
       "\n",
       "   HasDeviceProtection HasTechSupportAccess          HasOnlineTV  \\\n",
       "0  No internet service  No internet service  No internet service   \n",
       "1  No internet service  No internet service  No internet service   \n",
       "2                   No                  Yes                   No   \n",
       "3                  Yes                   No                   No   \n",
       "4                  Yes                  Yes                  Yes   \n",
       "\n",
       "  HasMovieSubscription HasContractPhone IsBillingPaperless  \\\n",
       "0  No internet service         One year                 No   \n",
       "1  No internet service         Two year                 No   \n",
       "2                   No   Month-to-month                Yes   \n",
       "3                   No   Month-to-month                 No   \n",
       "4                  Yes         Two year                 No   \n",
       "\n",
       "             PaymentMethod  Churn  \n",
       "0             Mailed check      0  \n",
       "1  Credit card (automatic)      0  \n",
       "2         Electronic check      1  \n",
       "3             Mailed check      0  \n",
       "4  Credit card (automatic)      0  "
      ]
     },
     "execution_count": 4,
     "metadata": {},
     "output_type": "execute_result"
    }
   ],
   "source": [
    "df_train.head()"
   ]
  },
  {
   "cell_type": "code",
   "execution_count": 5,
   "metadata": {},
   "outputs": [
    {
     "name": "stdout",
     "output_type": "stream",
     "text": [
      "<class 'pandas.core.frame.DataFrame'>\n",
      "RangeIndex: 5282 entries, 0 to 5281\n",
      "Data columns (total 20 columns):\n",
      " #   Column                    Non-Null Count  Dtype  \n",
      "---  ------                    --------------  -----  \n",
      " 0   ClientPeriod              5282 non-null   int64  \n",
      " 1   MonthlySpending           5282 non-null   float64\n",
      " 2   TotalSpent                5282 non-null   object \n",
      " 3   Sex                       5282 non-null   object \n",
      " 4   IsSeniorCitizen           5282 non-null   int64  \n",
      " 5   HasPartner                5282 non-null   object \n",
      " 6   HasChild                  5282 non-null   object \n",
      " 7   HasPhoneService           5282 non-null   object \n",
      " 8   HasMultiplePhoneNumbers   5282 non-null   object \n",
      " 9   HasInternetService        5282 non-null   object \n",
      " 10  HasOnlineSecurityService  5282 non-null   object \n",
      " 11  HasOnlineBackup           5282 non-null   object \n",
      " 12  HasDeviceProtection       5282 non-null   object \n",
      " 13  HasTechSupportAccess      5282 non-null   object \n",
      " 14  HasOnlineTV               5282 non-null   object \n",
      " 15  HasMovieSubscription      5282 non-null   object \n",
      " 16  HasContractPhone          5282 non-null   object \n",
      " 17  IsBillingPaperless        5282 non-null   object \n",
      " 18  PaymentMethod             5282 non-null   object \n",
      " 19  Churn                     5282 non-null   int64  \n",
      "dtypes: float64(1), int64(3), object(16)\n",
      "memory usage: 825.4+ KB\n"
     ]
    }
   ],
   "source": [
    "df_train.info()"
   ]
  },
  {
   "cell_type": "code",
   "execution_count": 6,
   "metadata": {},
   "outputs": [
    {
     "data": {
      "text/plain": [
       "ClientPeriod                0\n",
       "MonthlySpending             0\n",
       "TotalSpent                  0\n",
       "Sex                         0\n",
       "IsSeniorCitizen             0\n",
       "HasPartner                  0\n",
       "HasChild                    0\n",
       "HasPhoneService             0\n",
       "HasMultiplePhoneNumbers     0\n",
       "HasInternetService          0\n",
       "HasOnlineSecurityService    0\n",
       "HasOnlineBackup             0\n",
       "HasDeviceProtection         0\n",
       "HasTechSupportAccess        0\n",
       "HasOnlineTV                 0\n",
       "HasMovieSubscription        0\n",
       "HasContractPhone            0\n",
       "IsBillingPaperless          0\n",
       "PaymentMethod               0\n",
       "Churn                       0\n",
       "dtype: int64"
      ]
     },
     "execution_count": 6,
     "metadata": {},
     "output_type": "execute_result"
    }
   ],
   "source": [
    "# наличие пропусков в данных\n",
    "df_train.isna().sum()"
   ]
  },
  {
   "cell_type": "code",
   "execution_count": 7,
   "metadata": {},
   "outputs": [
    {
     "data": {
      "text/html": [
       "<div>\n",
       "<style scoped>\n",
       "    .dataframe tbody tr th:only-of-type {\n",
       "        vertical-align: middle;\n",
       "    }\n",
       "\n",
       "    .dataframe tbody tr th {\n",
       "        vertical-align: top;\n",
       "    }\n",
       "\n",
       "    .dataframe thead th {\n",
       "        text-align: right;\n",
       "    }\n",
       "</style>\n",
       "<table border=\"1\" class=\"dataframe\">\n",
       "  <thead>\n",
       "    <tr style=\"text-align: right;\">\n",
       "      <th></th>\n",
       "      <th>ClientPeriod</th>\n",
       "      <th>MonthlySpending</th>\n",
       "      <th>IsSeniorCitizen</th>\n",
       "      <th>Churn</th>\n",
       "    </tr>\n",
       "  </thead>\n",
       "  <tbody>\n",
       "    <tr>\n",
       "      <th>count</th>\n",
       "      <td>5282.000000</td>\n",
       "      <td>5282.000000</td>\n",
       "      <td>5282.000000</td>\n",
       "      <td>5282.000000</td>\n",
       "    </tr>\n",
       "    <tr>\n",
       "      <th>mean</th>\n",
       "      <td>32.397009</td>\n",
       "      <td>64.924754</td>\n",
       "      <td>0.159409</td>\n",
       "      <td>0.262022</td>\n",
       "    </tr>\n",
       "    <tr>\n",
       "      <th>std</th>\n",
       "      <td>24.550326</td>\n",
       "      <td>30.176464</td>\n",
       "      <td>0.366092</td>\n",
       "      <td>0.439776</td>\n",
       "    </tr>\n",
       "    <tr>\n",
       "      <th>min</th>\n",
       "      <td>0.000000</td>\n",
       "      <td>18.250000</td>\n",
       "      <td>0.000000</td>\n",
       "      <td>0.000000</td>\n",
       "    </tr>\n",
       "    <tr>\n",
       "      <th>25%</th>\n",
       "      <td>9.000000</td>\n",
       "      <td>35.462500</td>\n",
       "      <td>0.000000</td>\n",
       "      <td>0.000000</td>\n",
       "    </tr>\n",
       "    <tr>\n",
       "      <th>50%</th>\n",
       "      <td>29.000000</td>\n",
       "      <td>70.400000</td>\n",
       "      <td>0.000000</td>\n",
       "      <td>0.000000</td>\n",
       "    </tr>\n",
       "    <tr>\n",
       "      <th>75%</th>\n",
       "      <td>55.000000</td>\n",
       "      <td>90.050000</td>\n",
       "      <td>0.000000</td>\n",
       "      <td>1.000000</td>\n",
       "    </tr>\n",
       "    <tr>\n",
       "      <th>max</th>\n",
       "      <td>72.000000</td>\n",
       "      <td>118.750000</td>\n",
       "      <td>1.000000</td>\n",
       "      <td>1.000000</td>\n",
       "    </tr>\n",
       "  </tbody>\n",
       "</table>\n",
       "</div>"
      ],
      "text/plain": [
       "       ClientPeriod  MonthlySpending  IsSeniorCitizen        Churn\n",
       "count   5282.000000      5282.000000      5282.000000  5282.000000\n",
       "mean      32.397009        64.924754         0.159409     0.262022\n",
       "std       24.550326        30.176464         0.366092     0.439776\n",
       "min        0.000000        18.250000         0.000000     0.000000\n",
       "25%        9.000000        35.462500         0.000000     0.000000\n",
       "50%       29.000000        70.400000         0.000000     0.000000\n",
       "75%       55.000000        90.050000         0.000000     1.000000\n",
       "max       72.000000       118.750000         1.000000     1.000000"
      ]
     },
     "execution_count": 7,
     "metadata": {},
     "output_type": "execute_result"
    }
   ],
   "source": [
    "df_train.describe()"
   ]
  },
  {
   "cell_type": "code",
   "execution_count": 8,
   "metadata": {},
   "outputs": [
    {
     "data": {
      "text/plain": [
       "0    3898\n",
       "1    1384\n",
       "Name: Churn, dtype: int64"
      ]
     },
     "execution_count": 8,
     "metadata": {},
     "output_type": "execute_result"
    }
   ],
   "source": [
    "# посмотрим на распределение целевой переменной, классы несбалансированны\n",
    "df_train['Churn'].value_counts()"
   ]
  },
  {
   "cell_type": "code",
   "execution_count": 9,
   "metadata": {},
   "outputs": [
    {
     "name": "stdout",
     "output_type": "stream",
     "text": [
      "ClientPeriod: [55 72  1 32 60 25 27 50 16 70 69 26 38 30 52 71 59 61  7 20 48 22  2 21\n",
      " 44 66 58 46 45  5  4  3 62  6 39 68 51 40 10 43 12 35 31 67  8 11 29 37\n",
      " 33 14 15 47 23 65 13 41 53  9 64 42 34 17 18 63 56 54 24 28 49 19 57 36\n",
      "  0]\n",
      "MonthlySpending: [ 19.5   25.85  75.9  ... 112.25 117.5   98.2 ]\n",
      "TotalSpent: ['1026.35' '1872.2' '75.9' ... '55.05' '2215.25' '1375.6']\n",
      "Sex: ['Male' 'Female']\n",
      "IsSeniorCitizen: [0 1]\n",
      "HasPartner: ['Yes' 'No']\n",
      "HasChild: ['Yes' 'No']\n",
      "HasPhoneService: ['Yes' 'No']\n",
      "HasMultiplePhoneNumbers: ['No' 'Yes' 'No phone service']\n",
      "HasInternetService: ['No' 'Fiber optic' 'DSL']\n",
      "HasOnlineSecurityService: ['No internet service' 'No' 'Yes']\n",
      "HasOnlineBackup: ['No internet service' 'No' 'Yes']\n",
      "HasDeviceProtection: ['No internet service' 'No' 'Yes']\n",
      "HasTechSupportAccess: ['No internet service' 'Yes' 'No']\n",
      "HasOnlineTV: ['No internet service' 'No' 'Yes']\n",
      "HasMovieSubscription: ['No internet service' 'No' 'Yes']\n",
      "HasContractPhone: ['One year' 'Two year' 'Month-to-month']\n",
      "IsBillingPaperless: ['No' 'Yes']\n",
      "PaymentMethod: ['Mailed check' 'Credit card (automatic)' 'Electronic check'\n",
      " 'Bank transfer (automatic)']\n"
     ]
    }
   ],
   "source": [
    "# просмотрим уникальные значения\n",
    "for i_col in df_train.columns[:-1]:\n",
    "    print(f'{i_col}: {df_train[i_col].unique()}')"
   ]
  },
  {
   "cell_type": "code",
   "execution_count": 10,
   "metadata": {},
   "outputs": [],
   "source": [
    "# выделим категориальные бинарные признаки которые преобразуем в числовые\n",
    "to_binary_columns = ['Sex', 'HasPartner', 'HasChild', 'HasPhoneService', 'IsBillingPaperless']\n",
    "# выделим категориальные колонки\n",
    "category_columns = ['HasMultiplePhoneNumbers', 'HasInternetService', 'HasOnlineSecurityService',\n",
    "                   'HasOnlineBackup', 'HasDeviceProtection', 'HasTechSupportAccess',\n",
    "                   'HasOnlineTV', 'HasMovieSubscription', 'HasContractPhone', 'PaymentMethod']"
   ]
  },
  {
   "cell_type": "code",
   "execution_count": 11,
   "metadata": {},
   "outputs": [],
   "source": [
    "# колонку TotalSpent надо преобразовать в числовой формат\n",
    "df_train['TotalSpent'] = df_train['TotalSpent'].replace(' ', np.NaN).astype(np.float64)\n",
    "df_test['TotalSpent'] = df_test['TotalSpent'].replace(' ', np.NaN).astype(np.float64)"
   ]
  },
  {
   "cell_type": "code",
   "execution_count": 12,
   "metadata": {},
   "outputs": [],
   "source": [
    "# функци преобразования бинарных категориальных данных в числовые\n",
    "def preprocess_data_object_to_binary(df, columns):\n",
    "    for i_col in columns:\n",
    "        uniq = df[i_col].unique()\n",
    "        df[i_col] = df[i_col].apply(lambda x: 1 if x == uniq[0] else 0)\n",
    "    return df"
   ]
  },
  {
   "cell_type": "code",
   "execution_count": 13,
   "metadata": {},
   "outputs": [],
   "source": [
    "df_train = preprocess_data_object_to_binary(df_train, to_binary_columns)\n",
    "df_test = preprocess_data_object_to_binary(df_test, to_binary_columns)"
   ]
  },
  {
   "cell_type": "code",
   "execution_count": 14,
   "metadata": {},
   "outputs": [
    {
     "name": "stdout",
     "output_type": "stream",
     "text": [
      "ClientPeriod: [55 72  1 32 60 25 27 50 16 70 69 26 38 30 52 71 59 61  7 20 48 22  2 21\n",
      " 44 66 58 46 45  5  4  3 62  6 39 68 51 40 10 43 12 35 31 67  8 11 29 37\n",
      " 33 14 15 47 23 65 13 41 53  9 64 42 34 17 18 63 56 54 24 28 49 19 57 36\n",
      "  0]\n",
      "MonthlySpending: [ 19.5   25.85  75.9  ... 112.25 117.5   98.2 ]\n",
      "TotalSpent: [1026.35 1872.2    75.9  ...   55.05 2215.25 1375.6 ]\n",
      "Sex: [1 0]\n",
      "IsSeniorCitizen: [0 1]\n",
      "HasPartner: [1 0]\n",
      "HasChild: [1 0]\n",
      "HasPhoneService: [1 0]\n",
      "HasMultiplePhoneNumbers: ['No' 'Yes' 'No phone service']\n",
      "HasInternetService: ['No' 'Fiber optic' 'DSL']\n",
      "HasOnlineSecurityService: ['No internet service' 'No' 'Yes']\n",
      "HasOnlineBackup: ['No internet service' 'No' 'Yes']\n",
      "HasDeviceProtection: ['No internet service' 'No' 'Yes']\n",
      "HasTechSupportAccess: ['No internet service' 'Yes' 'No']\n",
      "HasOnlineTV: ['No internet service' 'No' 'Yes']\n",
      "HasMovieSubscription: ['No internet service' 'No' 'Yes']\n",
      "HasContractPhone: ['One year' 'Two year' 'Month-to-month']\n",
      "IsBillingPaperless: [1 0]\n",
      "PaymentMethod: ['Mailed check' 'Credit card (automatic)' 'Electronic check'\n",
      " 'Bank transfer (automatic)']\n"
     ]
    }
   ],
   "source": [
    "# просмотрим уникальные значения\n",
    "for i_col in df_train.columns[:-1]:\n",
    "    print(f'{i_col}: {df_train[i_col].unique()}')"
   ]
  },
  {
   "cell_type": "code",
   "execution_count": 15,
   "metadata": {},
   "outputs": [
    {
     "data": {
      "text/plain": [
       "ClientPeriod                  int64\n",
       "MonthlySpending             float64\n",
       "TotalSpent                  float64\n",
       "Sex                           int64\n",
       "IsSeniorCitizen               int64\n",
       "HasPartner                    int64\n",
       "HasChild                      int64\n",
       "HasPhoneService               int64\n",
       "HasMultiplePhoneNumbers      object\n",
       "HasInternetService           object\n",
       "HasOnlineSecurityService     object\n",
       "HasOnlineBackup              object\n",
       "HasDeviceProtection          object\n",
       "HasTechSupportAccess         object\n",
       "HasOnlineTV                  object\n",
       "HasMovieSubscription         object\n",
       "HasContractPhone             object\n",
       "IsBillingPaperless            int64\n",
       "PaymentMethod                object\n",
       "Churn                         int64\n",
       "dtype: object"
      ]
     },
     "execution_count": 15,
     "metadata": {},
     "output_type": "execute_result"
    }
   ],
   "source": [
    "df_train.dtypes"
   ]
  },
  {
   "cell_type": "code",
   "execution_count": 16,
   "metadata": {},
   "outputs": [],
   "source": [
    "# распределение бинарных данных\n",
    "binary_columns = df_train.select_dtypes(include=np.int64).columns.tolist()\n",
    "binary_columns.remove('ClientPeriod')\n",
    "binary_columns.remove('Churn')\n",
    "number_columns = df_train.select_dtypes(include=np.float64).columns.tolist()\n",
    "number_columns.append('ClientPeriod')"
   ]
  },
  {
   "cell_type": "code",
   "execution_count": 17,
   "metadata": {},
   "outputs": [
    {
     "data": {
      "image/png": "[encoded data removed]",
      "text/plain": [
       "<Figure size 720x720 with 4 Axes>"
      ]
     },
     "metadata": {
      "needs_background": "light"
     },
     "output_type": "display_data"
    }
   ],
   "source": [
    "# построим гистограммы для численных признаков\n",
    "df_train[number_columns].hist(figsize=(10, 10));"
   ]
  },
  {
   "cell_type": "code",
   "execution_count": 18,
   "metadata": {},
   "outputs": [
    {
     "name": "stdout",
     "output_type": "stream",
     "text": [
      "Sex:\n",
      "1    2655\n",
      "0    2627\n",
      "Name: Sex, dtype: int64\n",
      "--------------------\n",
      "IsSeniorCitizen:\n",
      "0    4440\n",
      "1     842\n",
      "Name: IsSeniorCitizen, dtype: int64\n",
      "--------------------\n",
      "HasPartner:\n",
      "0    2705\n",
      "1    2577\n",
      "Name: HasPartner, dtype: int64\n",
      "--------------------\n",
      "HasChild:\n",
      "0    3676\n",
      "1    1606\n",
      "Name: HasChild, dtype: int64\n",
      "--------------------\n",
      "HasPhoneService:\n",
      "1    4761\n",
      "0     521\n",
      "Name: HasPhoneService, dtype: int64\n",
      "--------------------\n",
      "IsBillingPaperless:\n",
      "0    3148\n",
      "1    2134\n",
      "Name: IsBillingPaperless, dtype: int64\n",
      "--------------------\n"
     ]
    }
   ],
   "source": [
    "# посмотрим распределение\n",
    "for i_col in binary_columns:\n",
    "    print(f'{i_col}:\\n{df_train[i_col].value_counts()}')\n",
    "    print(20*'-')"
   ]
  },
  {
   "cell_type": "code",
   "execution_count": 19,
   "metadata": {},
   "outputs": [
    {
     "data": {
      "text/html": [
       "<div>\n",
       "<style scoped>\n",
       "    .dataframe tbody tr th:only-of-type {\n",
       "        vertical-align: middle;\n",
       "    }\n",
       "\n",
       "    .dataframe tbody tr th {\n",
       "        vertical-align: top;\n",
       "    }\n",
       "\n",
       "    .dataframe thead th {\n",
       "        text-align: right;\n",
       "    }\n",
       "</style>\n",
       "<table border=\"1\" class=\"dataframe\">\n",
       "  <thead>\n",
       "    <tr style=\"text-align: right;\">\n",
       "      <th></th>\n",
       "      <th>ClientPeriod</th>\n",
       "      <th>MonthlySpending</th>\n",
       "      <th>TotalSpent</th>\n",
       "      <th>Sex</th>\n",
       "      <th>IsSeniorCitizen</th>\n",
       "      <th>HasPartner</th>\n",
       "      <th>HasChild</th>\n",
       "      <th>HasPhoneService</th>\n",
       "      <th>IsBillingPaperless</th>\n",
       "      <th>Churn</th>\n",
       "    </tr>\n",
       "  </thead>\n",
       "  <tbody>\n",
       "    <tr>\n",
       "      <th>count</th>\n",
       "      <td>5282.000000</td>\n",
       "      <td>5282.000000</td>\n",
       "      <td>5273.000000</td>\n",
       "      <td>5282.000000</td>\n",
       "      <td>5282.000000</td>\n",
       "      <td>5282.000000</td>\n",
       "      <td>5282.000000</td>\n",
       "      <td>5282.000000</td>\n",
       "      <td>5282.000000</td>\n",
       "      <td>5282.000000</td>\n",
       "    </tr>\n",
       "    <tr>\n",
       "      <th>mean</th>\n",
       "      <td>32.397009</td>\n",
       "      <td>64.924754</td>\n",
       "      <td>2291.390461</td>\n",
       "      <td>0.502651</td>\n",
       "      <td>0.159409</td>\n",
       "      <td>0.487883</td>\n",
       "      <td>0.304051</td>\n",
       "      <td>0.901363</td>\n",
       "      <td>0.404014</td>\n",
       "      <td>0.262022</td>\n",
       "    </tr>\n",
       "    <tr>\n",
       "      <th>std</th>\n",
       "      <td>24.550326</td>\n",
       "      <td>30.176464</td>\n",
       "      <td>2269.014233</td>\n",
       "      <td>0.500040</td>\n",
       "      <td>0.366092</td>\n",
       "      <td>0.499900</td>\n",
       "      <td>0.460048</td>\n",
       "      <td>0.298202</td>\n",
       "      <td>0.490747</td>\n",
       "      <td>0.439776</td>\n",
       "    </tr>\n",
       "    <tr>\n",
       "      <th>min</th>\n",
       "      <td>0.000000</td>\n",
       "      <td>18.250000</td>\n",
       "      <td>18.800000</td>\n",
       "      <td>0.000000</td>\n",
       "      <td>0.000000</td>\n",
       "      <td>0.000000</td>\n",
       "      <td>0.000000</td>\n",
       "      <td>0.000000</td>\n",
       "      <td>0.000000</td>\n",
       "      <td>0.000000</td>\n",
       "    </tr>\n",
       "    <tr>\n",
       "      <th>25%</th>\n",
       "      <td>9.000000</td>\n",
       "      <td>35.462500</td>\n",
       "      <td>401.100000</td>\n",
       "      <td>0.000000</td>\n",
       "      <td>0.000000</td>\n",
       "      <td>0.000000</td>\n",
       "      <td>0.000000</td>\n",
       "      <td>1.000000</td>\n",
       "      <td>0.000000</td>\n",
       "      <td>0.000000</td>\n",
       "    </tr>\n",
       "    <tr>\n",
       "      <th>50%</th>\n",
       "      <td>29.000000</td>\n",
       "      <td>70.400000</td>\n",
       "      <td>1410.250000</td>\n",
       "      <td>1.000000</td>\n",
       "      <td>0.000000</td>\n",
       "      <td>0.000000</td>\n",
       "      <td>0.000000</td>\n",
       "      <td>1.000000</td>\n",
       "      <td>0.000000</td>\n",
       "      <td>0.000000</td>\n",
       "    </tr>\n",
       "    <tr>\n",
       "      <th>75%</th>\n",
       "      <td>55.000000</td>\n",
       "      <td>90.050000</td>\n",
       "      <td>3807.350000</td>\n",
       "      <td>1.000000</td>\n",
       "      <td>0.000000</td>\n",
       "      <td>1.000000</td>\n",
       "      <td>1.000000</td>\n",
       "      <td>1.000000</td>\n",
       "      <td>1.000000</td>\n",
       "      <td>1.000000</td>\n",
       "    </tr>\n",
       "    <tr>\n",
       "      <th>max</th>\n",
       "      <td>72.000000</td>\n",
       "      <td>118.750000</td>\n",
       "      <td>8684.800000</td>\n",
       "      <td>1.000000</td>\n",
       "      <td>1.000000</td>\n",
       "      <td>1.000000</td>\n",
       "      <td>1.000000</td>\n",
       "      <td>1.000000</td>\n",
       "      <td>1.000000</td>\n",
       "      <td>1.000000</td>\n",
       "    </tr>\n",
       "  </tbody>\n",
       "</table>\n",
       "</div>"
      ],
      "text/plain": [
       "       ClientPeriod  MonthlySpending   TotalSpent          Sex  \\\n",
       "count   5282.000000      5282.000000  5273.000000  5282.000000   \n",
       "mean      32.397009        64.924754  2291.390461     0.502651   \n",
       "std       24.550326        30.176464  2269.014233     0.500040   \n",
       "min        0.000000        18.250000    18.800000     0.000000   \n",
       "25%        9.000000        35.462500   401.100000     0.000000   \n",
       "50%       29.000000        70.400000  1410.250000     1.000000   \n",
       "75%       55.000000        90.050000  3807.350000     1.000000   \n",
       "max       72.000000       118.750000  8684.800000     1.000000   \n",
       "\n",
       "       IsSeniorCitizen   HasPartner     HasChild  HasPhoneService  \\\n",
       "count      5282.000000  5282.000000  5282.000000      5282.000000   \n",
       "mean          0.159409     0.487883     0.304051         0.901363   \n",
       "std           0.366092     0.499900     0.460048         0.298202   \n",
       "min           0.000000     0.000000     0.000000         0.000000   \n",
       "25%           0.000000     0.000000     0.000000         1.000000   \n",
       "50%           0.000000     0.000000     0.000000         1.000000   \n",
       "75%           0.000000     1.000000     1.000000         1.000000   \n",
       "max           1.000000     1.000000     1.000000         1.000000   \n",
       "\n",
       "       IsBillingPaperless        Churn  \n",
       "count         5282.000000  5282.000000  \n",
       "mean             0.404014     0.262022  \n",
       "std              0.490747     0.439776  \n",
       "min              0.000000     0.000000  \n",
       "25%              0.000000     0.000000  \n",
       "50%              0.000000     0.000000  \n",
       "75%              1.000000     1.000000  \n",
       "max              1.000000     1.000000  "
      ]
     },
     "execution_count": 19,
     "metadata": {},
     "output_type": "execute_result"
    }
   ],
   "source": [
    "# посмотрим на описание данных\n",
    "df_train.describe()"
   ]
  },
  {
   "cell_type": "markdown",
   "metadata": {},
   "source": [
    "### Применение линейных моделей"
   ]
  },
  {
   "cell_type": "code",
   "execution_count": 20,
   "metadata": {},
   "outputs": [],
   "source": [
    "# разделим данные на тренировочную и обучающие выборки\n",
    "X_train, X_test, y_train, y_test = train_test_split(df_train.drop('Churn', axis=1),\n",
    "                                                         df_train['Churn'],\n",
    "                                                         test_size=0.3,\n",
    "                                                         stratify=df_train['Churn'],\n",
    "                                                         random_state=123)"
   ]
  },
  {
   "cell_type": "code",
   "execution_count": 21,
   "metadata": {},
   "outputs": [],
   "source": [
    "num_columns = binary_columns+number_columns\n",
    "num_pipe = make_pipeline(SimpleImputer(), StandardScaler())\n",
    "cat_pipe = make_pipeline(OneHotEncoder(sparse=True))\n",
    "transformers = [('num', num_pipe, num_columns),\n",
    "                ('cat', cat_pipe, category_columns)]\n",
    "transformer = ColumnTransformer(transformers=transformers)\n",
    "ml_pipe = make_pipeline(transformer, LogisticRegression(solver='liblinear',  random_state=123))"
   ]
  },
  {
   "cell_type": "code",
   "execution_count": 22,
   "metadata": {},
   "outputs": [
    {
     "data": {
      "text/plain": [
       "[('columntransformer',\n",
       "  ColumnTransformer(transformers=[('num',\n",
       "                                   Pipeline(steps=[('simpleimputer',\n",
       "                                                    SimpleImputer()),\n",
       "                                                   ('standardscaler',\n",
       "                                                    StandardScaler())]),\n",
       "                                   ['Sex', 'IsSeniorCitizen', 'HasPartner',\n",
       "                                    'HasChild', 'HasPhoneService',\n",
       "                                    'IsBillingPaperless', 'MonthlySpending',\n",
       "                                    'TotalSpent', 'ClientPeriod']),\n",
       "                                  ('cat',\n",
       "                                   Pipeline(steps=[('onehotencoder',\n",
       "                                                    OneHotEncoder())]),\n",
       "                                   ['HasMultiplePhoneNumbers',\n",
       "                                    'HasInternetService',\n",
       "                                    'HasOnlineSecurityService', 'HasOnlineBackup',\n",
       "                                    'HasDeviceProtection', 'HasTechSupportAccess',\n",
       "                                    'HasOnlineTV', 'HasMovieSubscription',\n",
       "                                    'HasContractPhone', 'PaymentMethod'])])),\n",
       " ('logisticregression',\n",
       "  LogisticRegression(random_state=123, solver='liblinear'))]"
      ]
     },
     "execution_count": 22,
     "metadata": {},
     "output_type": "execute_result"
    }
   ],
   "source": [
    "# выведем имена этапов\n",
    "ml_pipe.steps"
   ]
  },
  {
   "cell_type": "code",
   "execution_count": 23,
   "metadata": {},
   "outputs": [],
   "source": [
    "# задаем сетку гиперпараметров\n",
    "param_grid = {\n",
    "    'columntransformer__num__simpleimputer__strategy': ['mean', 'median', 'constant'],\n",
    "    'logisticregression__C': [100, 10, 1, 0.1, 0.01, 0.001],\n",
    "    'logisticregression__class_weight': ['balanced', None]\n",
    "    }"
   ]
  },
  {
   "cell_type": "code",
   "execution_count": 24,
   "metadata": {},
   "outputs": [],
   "source": [
    "# проведем поиск наилучших гиперпараметров\n",
    "gs = GridSearchCV(ml_pipe, param_grid, cv=5, scoring='roc_auc')\n",
    "gs.fit(X_train, y_train);"
   ]
  },
  {
   "cell_type": "code",
   "execution_count": 25,
   "metadata": {},
   "outputs": [
    {
     "name": "stdout",
     "output_type": "stream",
     "text": [
      "Наилучшие значения гиперпараметров: {'columntransformer__num__simpleimputer__strategy': 'constant', 'logisticregression__C': 1, 'logisticregression__class_weight': None}\n",
      "Наилучшее значение roc_auc: 0.844\n",
      "Значение roc_auc на тренировочной выборке: 0.849\n",
      "Значение roc_auc на тестовой выборке: 0.847\n"
     ]
    }
   ],
   "source": [
    "print('Наилучшие значения гиперпараметров: {}'.format(gs.best_params_))\n",
    "print('Наилучшее значение roc_auc: {:.3f}'.format(gs.best_score_))\n",
    "print('Значение roc_auc на тренировочной выборке: {:.3f}'.format(gs.score(X_train, y_train)))\n",
    "print('Значение roc_auc на тестовой выборке: {:.3f}'.format(gs.score(X_test, y_test)))"
   ]
  },
  {
   "cell_type": "markdown",
   "metadata": {},
   "source": [
    "### Применение градиентного бустинга"
   ]
  },
  {
   "cell_type": "code",
   "execution_count": 29,
   "metadata": {},
   "outputs": [],
   "source": [
    "def objective_ctb(trial):\n",
    "    X_train, X_test, y_train, y_test = train_test_split(df_train.drop('Churn', axis=1).fillna(-9999),\n",
    "                                                         df_train['Churn'],\n",
    "                                                         test_size=0.2,\n",
    "                                                         stratify=df_train['Churn'],\n",
    "                                                         random_state=123)\n",
    "    param_clf_ctb = {\n",
    "        'bagging_temperature': trial.suggest_float('bagging_temperature', 0.0, 1.5),\n",
    "        'random_strength': trial.suggest_float('random_strength', 0.0, 0.3),\n",
    "        'l2_leaf_reg': trial.suggest_int('l2_leaf_reg', 2, 30),\n",
    "        'auto_class_weights': trial.suggest_categorical('auto_class_weights', ['Balanced', 'None'])}\n",
    "    model_clf_ctb = CatBoostClassifier(\n",
    "        cat_features=category_columns,\n",
    "        learning_rate=0.015,\n",
    "        iterations=300,\n",
    "        eval_metric='AUC',\n",
    "        random_seed=123,\n",
    "        logging_level='Silent',\n",
    "        depth=9)\n",
    "    model_clf_ctb.set_params(**param_clf_ctb)\n",
    "    model_clf_ctb.fit(X_train, y_train, eval_set=[(X_test, y_test)], verbose=0, early_stopping_rounds=50)\n",
    "    pred_proba = model_clf_ctb.predict_proba(X_test)[:, 1]\n",
    "    return roc_auc_score(y_test, pred_proba)"
   ]
  },
  {
   "cell_type": "code",
   "execution_count": 30,
   "metadata": {},
   "outputs": [
    {
     "name": "stderr",
     "output_type": "stream",
     "text": [
      "\u001b[32m[I 2021-03-21 04:34:50,891]\u001b[0m A new study created in memory with name: no-name-985a3d0b-80cb-4d4e-8c20-35cd66d6c95b\u001b[0m\n",
      "\u001b[32m[I 2021-03-21 04:35:24,488]\u001b[0m Trial 0 finished with value: 0.8511478293066741 and parameters: {'bagging_temperature': 1.0236654114319539, 'random_strength': 0.23848161683325347, 'l2_leaf_reg': 19, 'auto_class_weights': 'Balanced'}. Best is trial 0 with value: 0.8511478293066741.\u001b[0m\n",
      "\u001b[32m[I 2021-03-21 04:35:24,707]\u001b[0m Trial 1 finished with value: 0.8520873831343145 and parameters: {'bagging_temperature': 0.8023841866717214, 'random_strength': 0.27862160322895724, 'l2_leaf_reg': 15, 'auto_class_weights': 'Balanced'}. Best is trial 1 with value: 0.8520873831343145.\u001b[0m\n",
      "\u001b[32m[I 2021-03-21 04:35:25,533]\u001b[0m Trial 2 finished with value: 0.8506155697491437 and parameters: {'bagging_temperature': 0.24599505164497332, 'random_strength': 0.22700569206229518, 'l2_leaf_reg': 15, 'auto_class_weights': 'None'}. Best is trial 1 with value: 0.8520873831343145.\u001b[0m\n",
      "\u001b[32m[I 2021-03-21 04:35:27,417]\u001b[0m Trial 3 finished with value: 0.853661020087013 and parameters: {'bagging_temperature': 0.08892961318234899, 'random_strength': 0.12494631006738106, 'l2_leaf_reg': 27, 'auto_class_weights': 'Balanced'}. Best is trial 3 with value: 0.853661020087013.\u001b[0m\n",
      "\u001b[32m[I 2021-03-21 04:35:58,018]\u001b[0m Trial 4 finished with value: 0.8505068036656485 and parameters: {'bagging_temperature': 0.16898560286074893, 'random_strength': 0.15324639943440194, 'l2_leaf_reg': 4, 'auto_class_weights': 'Balanced'}. Best is trial 3 with value: 0.853661020087013.\u001b[0m\n",
      "\u001b[32m[I 2021-03-21 04:35:58,485]\u001b[0m Trial 6 finished with value: 0.8507544200684994 and parameters: {'bagging_temperature': 0.0721434709085722, 'random_strength': 0.29338388003014554, 'l2_leaf_reg': 25, 'auto_class_weights': 'None'}. Best is trial 3 with value: 0.853661020087013.\u001b[0m\n",
      "\u001b[32m[I 2021-03-21 04:35:59,289]\u001b[0m Trial 5 finished with value: 0.8516962880681291 and parameters: {'bagging_temperature': 0.7900040134183104, 'random_strength': 0.051419477371193, 'l2_leaf_reg': 18, 'auto_class_weights': 'Balanced'}. Best is trial 3 with value: 0.853661020087013.\u001b[0m\n",
      "\u001b[32m[I 2021-03-21 04:35:59,869]\u001b[0m Trial 7 finished with value: 0.8523002869573266 and parameters: {'bagging_temperature': 0.7462092451506586, 'random_strength': 0.2545184680414688, 'l2_leaf_reg': 8, 'auto_class_weights': 'None'}. Best is trial 3 with value: 0.853661020087013.\u001b[0m\n",
      "\u001b[32m[I 2021-03-21 04:36:31,079]\u001b[0m Trial 8 finished with value: 0.8523604554290474 and parameters: {'bagging_temperature': 0.35648569345273934, 'random_strength': 0.16190642790934726, 'l2_leaf_reg': 25, 'auto_class_weights': 'None'}. Best is trial 3 with value: 0.853661020087013.\u001b[0m\n",
      "\u001b[32m[I 2021-03-21 04:36:31,910]\u001b[0m Trial 10 finished with value: 0.8515273535129131 and parameters: {'bagging_temperature': 1.4379248420863628, 'random_strength': 0.15041313982672552, 'l2_leaf_reg': 7, 'auto_class_weights': 'None'}. Best is trial 3 with value: 0.853661020087013.\u001b[0m\n",
      "\u001b[32m[I 2021-03-21 04:36:32,182]\u001b[0m Trial 11 finished with value: 0.8521128390261963 and parameters: {'bagging_temperature': 0.9279755472204556, 'random_strength': 0.17630123917173618, 'l2_leaf_reg': 25, 'auto_class_weights': 'None'}. Best is trial 3 with value: 0.853661020087013.\u001b[0m\n",
      "\u001b[32m[I 2021-03-21 04:36:32,613]\u001b[0m Trial 9 finished with value: 0.8531657872813108 and parameters: {'bagging_temperature': 1.1702353223816178, 'random_strength': 0.061725126026087394, 'l2_leaf_reg': 20, 'auto_class_weights': 'None'}. Best is trial 3 with value: 0.853661020087013.\u001b[0m\n",
      "\u001b[32m[I 2021-03-21 04:37:04,850]\u001b[0m Trial 15 finished with value: 0.8502568730908081 and parameters: {'bagging_temperature': 0.4935954449826253, 'random_strength': 0.10782204007021244, 'l2_leaf_reg': 17, 'auto_class_weights': 'None'}. Best is trial 3 with value: 0.853661020087013.\u001b[0m\n",
      "\u001b[32m[I 2021-03-21 04:37:04,956]\u001b[0m Trial 13 finished with value: 0.8522308617976487 and parameters: {'bagging_temperature': 0.30159488653758276, 'random_strength': 0.12001112088697341, 'l2_leaf_reg': 29, 'auto_class_weights': 'Balanced'}. Best is trial 3 with value: 0.853661020087013.\u001b[0m\n",
      "\u001b[32m[I 2021-03-21 04:37:06,857]\u001b[0m Trial 14 finished with value: 0.8511154308988244 and parameters: {'bagging_temperature': 0.8818256327881758, 'random_strength': 0.2856624268009611, 'l2_leaf_reg': 20, 'auto_class_weights': 'None'}. Best is trial 3 with value: 0.853661020087013.\u001b[0m\n",
      "\u001b[32m[I 2021-03-21 04:37:06,957]\u001b[0m Trial 12 finished with value: 0.8525201332963066 and parameters: {'bagging_temperature': 1.2751328588467021, 'random_strength': 0.196108219965544, 'l2_leaf_reg': 18, 'auto_class_weights': 'None'}. Best is trial 3 with value: 0.853661020087013.\u001b[0m\n",
      "\u001b[32m[I 2021-03-21 04:37:37,073]\u001b[0m Trial 16 finished with value: 0.8510598907710821 and parameters: {'bagging_temperature': 0.33264463733279837, 'random_strength': 0.22653496164812853, 'l2_leaf_reg': 21, 'auto_class_weights': 'None'}. Best is trial 3 with value: 0.853661020087013.\u001b[0m\n",
      "\u001b[32m[I 2021-03-21 04:37:37,287]\u001b[0m Trial 19 finished with value: 0.8517726557437748 and parameters: {'bagging_temperature': 1.0681134278352216, 'random_strength': 0.10041521888680671, 'l2_leaf_reg': 16, 'auto_class_weights': 'None'}. Best is trial 3 with value: 0.853661020087013.\u001b[0m\n",
      "\u001b[32m[I 2021-03-21 04:37:37,343]\u001b[0m Trial 17 finished with value: 0.8507266500046283 and parameters: {'bagging_temperature': 1.16448162164686, 'random_strength': 0.21858444897054188, 'l2_leaf_reg': 13, 'auto_class_weights': 'None'}. Best is trial 3 with value: 0.853661020087013.\u001b[0m\n",
      "\u001b[32m[I 2021-03-21 04:37:37,667]\u001b[0m Trial 18 finished with value: 0.8501967046190873 and parameters: {'bagging_temperature': 0.23144369980916862, 'random_strength': 0.25487313646616216, 'l2_leaf_reg': 2, 'auto_class_weights': 'None'}. Best is trial 3 with value: 0.853661020087013.\u001b[0m\n"
     ]
    },
    {
     "name": "stdout",
     "output_type": "stream",
     "text": [
      "CPU times: user 7min 28s, sys: 59.2 s, total: 8min 27s\n",
      "Wall time: 2min 46s\n"
     ]
    }
   ],
   "source": [
    "%%time\n",
    "sampl = RandomSampler(seed=123)\n",
    "study=optuna.create_study(sampler=sampl, direction='maximize')\n",
    "study.optimize(objective_ctb, n_trials=20, n_jobs=-1, timeout=1200);"
   ]
  },
  {
   "cell_type": "code",
   "execution_count": 31,
   "metadata": {},
   "outputs": [
    {
     "name": "stdout",
     "output_type": "stream",
     "text": [
      "Number of finished trials: 20\n",
      "Best trial:\n",
      "  Value: 0.853661020087013\n",
      "  Params: \n",
      "    bagging_temperature: 0.08892961318234899\n",
      "    random_strength: 0.12494631006738106\n",
      "    l2_leaf_reg: 27\n",
      "    auto_class_weights: Balanced\n"
     ]
    }
   ],
   "source": [
    "print(\"Number of finished trials: {}\".format(len(study.trials)))\n",
    "\n",
    "print(\"Best trial:\")\n",
    "trial = study.best_trial\n",
    "\n",
    "print(\"  Value: {}\".format(trial.value))\n",
    "\n",
    "print(\"  Params: \")\n",
    "for key, value in trial.params.items():\n",
    "    print(\"    {}: {}\".format(key, value))"
   ]
  },
  {
   "cell_type": "code",
   "execution_count": 35,
   "metadata": {},
   "outputs": [
    {
     "data": {
      "application/vnd.plotly.v1+json": {
       "config": {
        "plotlyServerURL": "https://plot.ly"
       },
       "data": [
        {
         "autocontour": true,
         "colorbar": {
          "title": {
           "text": "Objective Value"
          }
         },
         "colorscale": [
          [
           0,
           "rgb(220,220,220)"
          ],
          [
           0.30000000000000004,
           "rgb(106,137,247)"
          ],
          [
           0.4,
           "rgb(90,120,245)"
          ],
          [
           0.5,
           "rgb(70,100,245)"
          ],
          [
           0.65,
           "rgb(40,60,190)"
          ],
          [
           1,
           "rgb(5,10,172)"
          ]
         ],
         "connectgaps": true,
         "contours": {
          "coloring": "heatmap",
          "end": 0.8535,
          "size": 0.0005,
          "start": 0.8505
         },
         "hoverinfo": "none",
         "line": {
          "smoothing": 1.3
         },
         "type": "contour",
         "x": [
          0.0038544023496826646,
          0.0721434709085722,
          0.08892961318234899,
          0.16898560286074893,
          0.23144369980916862,
          0.24599505164497332,
          0.30159488653758276,
          0.33264463733279837,
          0.35648569345273934,
          0.4935954449826253,
          0.7462092451506586,
          0.7900040134183104,
          0.8023841866717214,
          0.8818256327881758,
          0.9279755472204556,
          1.0236654114319539,
          1.0681134278352216,
          1.16448162164686,
          1.1702353223816178,
          1.2751328588467021,
          1.4379248420863628,
          1.5062139106452523
         ],
         "y": [
          0.6499999999999999,
          2,
          4,
          7,
          8,
          13,
          15,
          16,
          17,
          18,
          19,
          20,
          21,
          25,
          27,
          29,
          30.35
         ],
         "z": [
          [
           null,
           null,
           null,
           null,
           null,
           null,
           null,
           null,
           null,
           null,
           null,
           null,
           null,
           null,
           null,
           null,
           null,
           null,
           null,
           null,
           null,
           null
          ],
          [
           null,
           null,
           null,
           null,
           0.8501967046190873,
           null,
           null,
           null,
           null,
           null,
           null,
           null,
           null,
           null,
           null,
           null,
           null,
           null,
           null,
           null,
           null,
           null
          ],
          [
           null,
           null,
           null,
           0.8505068036656485,
           null,
           null,
           null,
           null,
           null,
           null,
           null,
           null,
           null,
           null,
           null,
           null,
           null,
           null,
           null,
           null,
           null,
           null
          ],
          [
           null,
           null,
           null,
           null,
           null,
           null,
           null,
           null,
           null,
           null,
           null,
           null,
           null,
           null,
           null,
           null,
           null,
           null,
           null,
           null,
           0.8515273535129131,
           null
          ],
          [
           null,
           null,
           null,
           null,
           null,
           null,
           null,
           null,
           null,
           null,
           0.8523002869573266,
           null,
           null,
           null,
           null,
           null,
           null,
           null,
           null,
           null,
           null,
           null
          ],
          [
           null,
           null,
           null,
           null,
           null,
           null,
           null,
           null,
           null,
           null,
           null,
           null,
           null,
           null,
           null,
           null,
           null,
           0.8507266500046283,
           null,
           null,
           null,
           null
          ],
          [
           null,
           null,
           null,
           null,
           null,
           0.8506155697491437,
           null,
           null,
           null,
           null,
           null,
           null,
           0.8520873831343145,
           null,
           null,
           null,
           null,
           null,
           null,
           null,
           null,
           null
          ],
          [
           null,
           null,
           null,
           null,
           null,
           null,
           null,
           null,
           null,
           null,
           null,
           null,
           null,
           null,
           null,
           null,
           0.8517726557437748,
           null,
           null,
           null,
           null,
           null
          ],
          [
           null,
           null,
           null,
           null,
           null,
           null,
           null,
           null,
           null,
           0.8502568730908081,
           null,
           null,
           null,
           null,
           null,
           null,
           null,
           null,
           null,
           null,
           null,
           null
          ],
          [
           null,
           null,
           null,
           null,
           null,
           null,
           null,
           null,
           null,
           null,
           null,
           0.8516962880681291,
           null,
           null,
           null,
           null,
           null,
           null,
           null,
           0.8525201332963066,
           null,
           null
          ],
          [
           null,
           null,
           null,
           null,
           null,
           null,
           null,
           null,
           null,
           null,
           null,
           null,
           null,
           null,
           null,
           0.8511478293066741,
           null,
           null,
           null,
           null,
           null,
           null
          ],
          [
           null,
           null,
           null,
           null,
           null,
           null,
           null,
           null,
           null,
           null,
           null,
           null,
           null,
           0.8511154308988244,
           null,
           null,
           null,
           null,
           0.8531657872813108,
           null,
           null,
           null
          ],
          [
           null,
           null,
           null,
           null,
           null,
           null,
           null,
           0.8510598907710821,
           null,
           null,
           null,
           null,
           null,
           null,
           null,
           null,
           null,
           null,
           null,
           null,
           null,
           null
          ],
          [
           null,
           0.8507544200684994,
           null,
           null,
           null,
           null,
           null,
           null,
           0.8523604554290474,
           null,
           null,
           null,
           null,
           null,
           0.8521128390261963,
           null,
           null,
           null,
           null,
           null,
           null,
           null
          ],
          [
           null,
           null,
           0.853661020087013,
           null,
           null,
           null,
           null,
           null,
           null,
           null,
           null,
           null,
           null,
           null,
           null,
           null,
           null,
           null,
           null,
           null,
           null,
           null
          ],
          [
           null,
           null,
           null,
           null,
           null,
           null,
           0.8522308617976487,
           null,
           null,
           null,
           null,
           null,
           null,
           null,
           null,
           null,
           null,
           null,
           null,
           null,
           null,
           null
          ],
          [
           null,
           null,
           null,
           null,
           null,
           null,
           null,
           null,
           null,
           null,
           null,
           null,
           null,
           null,
           null,
           null,
           null,
           null,
           null,
           null,
           null,
           null
          ]
         ]
        },
        {
         "marker": {
          "color": "black",
          "line": {
           "color": "Grey",
           "width": 0.5
          }
         },
         "mode": "markers",
         "showlegend": false,
         "type": "scatter",
         "x": [
          1.0236654114319539,
          0.8023841866717214,
          0.24599505164497332,
          0.08892961318234899,
          0.16898560286074893,
          0.7900040134183104,
          0.0721434709085722,
          0.7462092451506586,
          0.35648569345273934,
          1.1702353223816178,
          1.4379248420863628,
          0.9279755472204556,
          1.2751328588467021,
          0.30159488653758276,
          0.8818256327881758,
          0.4935954449826253,
          0.33264463733279837,
          1.16448162164686,
          0.23144369980916862,
          1.0681134278352216
         ],
         "y": [
          19,
          15,
          15,
          27,
          4,
          18,
          25,
          8,
          25,
          20,
          7,
          25,
          18,
          29,
          20,
          17,
          21,
          13,
          2,
          16
         ]
        }
       ],
       "layout": {
        "autosize": true,
        "template": {
         "data": {
          "bar": [
           {
            "error_x": {
             "color": "#2a3f5f"
            },
            "error_y": {
             "color": "#2a3f5f"
            },
            "marker": {
             "line": {
              "color": "#E5ECF6",
              "width": 0.5
             }
            },
            "type": "bar"
           }
          ],
          "barpolar": [
           {
            "marker": {
             "line": {
              "color": "#E5ECF6",
              "width": 0.5
             }
            },
            "type": "barpolar"
           }
          ],
          "carpet": [
           {
            "aaxis": {
             "endlinecolor": "#2a3f5f",
             "gridcolor": "white",
             "linecolor": "white",
             "minorgridcolor": "white",
             "startlinecolor": "#2a3f5f"
            },
            "baxis": {
             "endlinecolor": "#2a3f5f",
             "gridcolor": "white",
             "linecolor": "white",
             "minorgridcolor": "white",
             "startlinecolor": "#2a3f5f"
            },
            "type": "carpet"
           }
          ],
          "choropleth": [
           {
            "colorbar": {
             "outlinewidth": 0,
             "ticks": ""
            },
            "type": "choropleth"
           }
          ],
          "contour": [
           {
            "colorbar": {
             "outlinewidth": 0,
             "ticks": ""
            },
            "colorscale": [
             [
              0,
              "#0d0887"
             ],
             [
              0.1111111111111111,
              "#46039f"
             ],
             [
              0.2222222222222222,
              "#7201a8"
             ],
             [
              0.3333333333333333,
              "#9c179e"
             ],
             [
              0.4444444444444444,
              "#bd3786"
             ],
             [
              0.5555555555555556,
              "#d8576b"
             ],
             [
              0.6666666666666666,
              "#ed7953"
             ],
             [
              0.7777777777777778,
              "#fb9f3a"
             ],
             [
              0.8888888888888888,
              "#fdca26"
             ],
             [
              1,
              "#f0f921"
             ]
            ],
            "type": "contour"
           }
          ],
          "contourcarpet": [
           {
            "colorbar": {
             "outlinewidth": 0,
             "ticks": ""
            },
            "type": "contourcarpet"
           }
          ],
          "heatmap": [
           {
            "colorbar": {
             "outlinewidth": 0,
             "ticks": ""
            },
            "colorscale": [
             [
              0,
              "#0d0887"
             ],
             [
              0.1111111111111111,
              "#46039f"
             ],
             [
              0.2222222222222222,
              "#7201a8"
             ],
             [
              0.3333333333333333,
              "#9c179e"
             ],
             [
              0.4444444444444444,
              "#bd3786"
             ],
             [
              0.5555555555555556,
              "#d8576b"
             ],
             [
              0.6666666666666666,
              "#ed7953"
             ],
             [
              0.7777777777777778,
              "#fb9f3a"
             ],
             [
              0.8888888888888888,
              "#fdca26"
             ],
             [
              1,
              "#f0f921"
             ]
            ],
            "type": "heatmap"
           }
          ],
          "heatmapgl": [
           {
            "colorbar": {
             "outlinewidth": 0,
             "ticks": ""
            },
            "colorscale": [
             [
              0,
              "#0d0887"
             ],
             [
              0.1111111111111111,
              "#46039f"
             ],
             [
              0.2222222222222222,
              "#7201a8"
             ],
             [
              0.3333333333333333,
              "#9c179e"
             ],
             [
              0.4444444444444444,
              "#bd3786"
             ],
             [
              0.5555555555555556,
              "#d8576b"
             ],
             [
              0.6666666666666666,
              "#ed7953"
             ],
             [
              0.7777777777777778,
              "#fb9f3a"
             ],
             [
              0.8888888888888888,
              "#fdca26"
             ],
             [
              1,
              "#f0f921"
             ]
            ],
            "type": "heatmapgl"
           }
          ],
          "histogram": [
           {
            "marker": {
             "colorbar": {
              "outlinewidth": 0,
              "ticks": ""
             }
            },
            "type": "histogram"
           }
          ],
          "histogram2d": [
           {
            "colorbar": {
             "outlinewidth": 0,
             "ticks": ""
            },
            "colorscale": [
             [
              0,
              "#0d0887"
             ],
             [
              0.1111111111111111,
              "#46039f"
             ],
             [
              0.2222222222222222,
              "#7201a8"
             ],
             [
              0.3333333333333333,
              "#9c179e"
             ],
             [
              0.4444444444444444,
              "#bd3786"
             ],
             [
              0.5555555555555556,
              "#d8576b"
             ],
             [
              0.6666666666666666,
              "#ed7953"
             ],
             [
              0.7777777777777778,
              "#fb9f3a"
             ],
             [
              0.8888888888888888,
              "#fdca26"
             ],
             [
              1,
              "#f0f921"
             ]
            ],
            "type": "histogram2d"
           }
          ],
          "histogram2dcontour": [
           {
            "colorbar": {
             "outlinewidth": 0,
             "ticks": ""
            },
            "colorscale": [
             [
              0,
              "#0d0887"
             ],
             [
              0.1111111111111111,
              "#46039f"
             ],
             [
              0.2222222222222222,
              "#7201a8"
             ],
             [
              0.3333333333333333,
              "#9c179e"
             ],
             [
              0.4444444444444444,
              "#bd3786"
             ],
             [
              0.5555555555555556,
              "#d8576b"
             ],
             [
              0.6666666666666666,
              "#ed7953"
             ],
             [
              0.7777777777777778,
              "#fb9f3a"
             ],
             [
              0.8888888888888888,
              "#fdca26"
             ],
             [
              1,
              "#f0f921"
             ]
            ],
            "type": "histogram2dcontour"
           }
          ],
          "mesh3d": [
           {
            "colorbar": {
             "outlinewidth": 0,
             "ticks": ""
            },
            "type": "mesh3d"
           }
          ],
          "parcoords": [
           {
            "line": {
             "colorbar": {
              "outlinewidth": 0,
              "ticks": ""
             }
            },
            "type": "parcoords"
           }
          ],
          "pie": [
           {
            "automargin": true,
            "type": "pie"
           }
          ],
          "scatter": [
           {
            "marker": {
             "colorbar": {
              "outlinewidth": 0,
              "ticks": ""
             }
            },
            "type": "scatter"
           }
          ],
          "scatter3d": [
           {
            "line": {
             "colorbar": {
              "outlinewidth": 0,
              "ticks": ""
             }
            },
            "marker": {
             "colorbar": {
              "outlinewidth": 0,
              "ticks": ""
             }
            },
            "type": "scatter3d"
           }
          ],
          "scattercarpet": [
           {
            "marker": {
             "colorbar": {
              "outlinewidth": 0,
              "ticks": ""
             }
            },
            "type": "scattercarpet"
           }
          ],
          "scattergeo": [
           {
            "marker": {
             "colorbar": {
              "outlinewidth": 0,
              "ticks": ""
             }
            },
            "type": "scattergeo"
           }
          ],
          "scattergl": [
           {
            "marker": {
             "colorbar": {
              "outlinewidth": 0,
              "ticks": ""
             }
            },
            "type": "scattergl"
           }
          ],
          "scattermapbox": [
           {
            "marker": {
             "colorbar": {
              "outlinewidth": 0,
              "ticks": ""
             }
            },
            "type": "scattermapbox"
           }
          ],
          "scatterpolar": [
           {
            "marker": {
             "colorbar": {
              "outlinewidth": 0,
              "ticks": ""
             }
            },
            "type": "scatterpolar"
           }
          ],
          "scatterpolargl": [
           {
            "marker": {
             "colorbar": {
              "outlinewidth": 0,
              "ticks": ""
             }
            },
            "type": "scatterpolargl"
           }
          ],
          "scatterternary": [
           {
            "marker": {
             "colorbar": {
              "outlinewidth": 0,
              "ticks": ""
             }
            },
            "type": "scatterternary"
           }
          ],
          "surface": [
           {
            "colorbar": {
             "outlinewidth": 0,
             "ticks": ""
            },
            "colorscale": [
             [
              0,
              "#0d0887"
             ],
             [
              0.1111111111111111,
              "#46039f"
             ],
             [
              0.2222222222222222,
              "#7201a8"
             ],
             [
              0.3333333333333333,
              "#9c179e"
             ],
             [
              0.4444444444444444,
              "#bd3786"
             ],
             [
              0.5555555555555556,
              "#d8576b"
             ],
             [
              0.6666666666666666,
              "#ed7953"
             ],
             [
              0.7777777777777778,
              "#fb9f3a"
             ],
             [
              0.8888888888888888,
              "#fdca26"
             ],
             [
              1,
              "#f0f921"
             ]
            ],
            "type": "surface"
           }
          ],
          "table": [
           {
            "cells": {
             "fill": {
              "color": "#EBF0F8"
             },
             "line": {
              "color": "white"
             }
            },
            "header": {
             "fill": {
              "color": "#C8D4E3"
             },
             "line": {
              "color": "white"
             }
            },
            "type": "table"
           }
          ]
         },
         "layout": {
          "annotationdefaults": {
           "arrowcolor": "#2a3f5f",
           "arrowhead": 0,
           "arrowwidth": 1
          },
          "autotypenumbers": "strict",
          "coloraxis": {
           "colorbar": {
            "outlinewidth": 0,
            "ticks": ""
           }
          },
          "colorscale": {
           "diverging": [
            [
             0,
             "#8e0152"
            ],
            [
             0.1,
             "#c51b7d"
            ],
            [
             0.2,
             "#de77ae"
            ],
            [
             0.3,
             "#f1b6da"
            ],
            [
             0.4,
             "#fde0ef"
            ],
            [
             0.5,
             "#f7f7f7"
            ],
            [
             0.6,
             "#e6f5d0"
            ],
            [
             0.7,
             "#b8e186"
            ],
            [
             0.8,
             "#7fbc41"
            ],
            [
             0.9,
             "#4d9221"
            ],
            [
             1,
             "#276419"
            ]
           ],
           "sequential": [
            [
             0,
             "#0d0887"
            ],
            [
             0.1111111111111111,
             "#46039f"
            ],
            [
             0.2222222222222222,
             "#7201a8"
            ],
            [
             0.3333333333333333,
             "#9c179e"
            ],
            [
             0.4444444444444444,
             "#bd3786"
            ],
            [
             0.5555555555555556,
             "#d8576b"
            ],
            [
             0.6666666666666666,
             "#ed7953"
            ],
            [
             0.7777777777777778,
             "#fb9f3a"
            ],
            [
             0.8888888888888888,
             "#fdca26"
            ],
            [
             1,
             "#f0f921"
            ]
           ],
           "sequentialminus": [
            [
             0,
             "#0d0887"
            ],
            [
             0.1111111111111111,
             "#46039f"
            ],
            [
             0.2222222222222222,
             "#7201a8"
            ],
            [
             0.3333333333333333,
             "#9c179e"
            ],
            [
             0.4444444444444444,
             "#bd3786"
            ],
            [
             0.5555555555555556,
             "#d8576b"
            ],
            [
             0.6666666666666666,
             "#ed7953"
            ],
            [
             0.7777777777777778,
             "#fb9f3a"
            ],
            [
             0.8888888888888888,
             "#fdca26"
            ],
            [
             1,
             "#f0f921"
            ]
           ]
          },
          "colorway": [
           "#636efa",
           "#EF553B",
           "#00cc96",
           "#ab63fa",
           "#FFA15A",
           "#19d3f3",
           "#FF6692",
           "#B6E880",
           "#FF97FF",
           "#FECB52"
          ],
          "font": {
           "color": "#2a3f5f"
          },
          "geo": {
           "bgcolor": "white",
           "lakecolor": "white",
           "landcolor": "#E5ECF6",
           "showlakes": true,
           "showland": true,
           "subunitcolor": "white"
          },
          "hoverlabel": {
           "align": "left"
          },
          "hovermode": "closest",
          "mapbox": {
           "style": "light"
          },
          "paper_bgcolor": "white",
          "plot_bgcolor": "#E5ECF6",
          "polar": {
           "angularaxis": {
            "gridcolor": "white",
            "linecolor": "white",
            "ticks": ""
           },
           "bgcolor": "#E5ECF6",
           "radialaxis": {
            "gridcolor": "white",
            "linecolor": "white",
            "ticks": ""
           }
          },
          "scene": {
           "xaxis": {
            "backgroundcolor": "#E5ECF6",
            "gridcolor": "white",
            "gridwidth": 2,
            "linecolor": "white",
            "showbackground": true,
            "ticks": "",
            "zerolinecolor": "white"
           },
           "yaxis": {
            "backgroundcolor": "#E5ECF6",
            "gridcolor": "white",
            "gridwidth": 2,
            "linecolor": "white",
            "showbackground": true,
            "ticks": "",
            "zerolinecolor": "white"
           },
           "zaxis": {
            "backgroundcolor": "#E5ECF6",
            "gridcolor": "white",
            "gridwidth": 2,
            "linecolor": "white",
            "showbackground": true,
            "ticks": "",
            "zerolinecolor": "white"
           }
          },
          "shapedefaults": {
           "line": {
            "color": "#2a3f5f"
           }
          },
          "ternary": {
           "aaxis": {
            "gridcolor": "white",
            "linecolor": "white",
            "ticks": ""
           },
           "baxis": {
            "gridcolor": "white",
            "linecolor": "white",
            "ticks": ""
           },
           "bgcolor": "#E5ECF6",
           "caxis": {
            "gridcolor": "white",
            "linecolor": "white",
            "ticks": ""
           }
          },
          "title": {
           "x": 0.05
          },
          "xaxis": {
           "automargin": true,
           "gridcolor": "white",
           "linecolor": "white",
           "ticks": "",
           "title": {
            "standoff": 15
           },
           "zerolinecolor": "white",
           "zerolinewidth": 2
          },
          "yaxis": {
           "automargin": true,
           "gridcolor": "white",
           "linecolor": "white",
           "ticks": "",
           "title": {
            "standoff": 15
           },
           "zerolinecolor": "white",
           "zerolinewidth": 2
          }
         }
        },
        "title": {
         "text": "Contour Plot"
        },
        "xaxis": {
         "range": [
          0.0038544023496826646,
          1.5062139106452523
         ],
         "title": {
          "text": "bagging_temperature"
         },
         "type": "linear"
        },
        "yaxis": {
         "range": [
          0.6499999999999999,
          30.35
         ],
         "title": {
          "text": "l2_leaf_reg"
         },
         "type": "linear"
        }
       }
      },
      "image/png": "[encoded data removed]",
      "text/html": [
       "<div>                            <div id=\"6d2e5938-3dc4-4030-9c90-f7c963878b6f\" class=\"plotly-graph-div\" style=\"height:525px; width:100%;\"></div>            <script type=\"text/javascript\">                require([\"plotly\"], function(Plotly) {                    window.PLOTLYENV=window.PLOTLYENV || {};                                    if (document.getElementById(\"6d2e5938-3dc4-4030-9c90-f7c963878b6f\")) {                    Plotly.newPlot(                        \"6d2e5938-3dc4-4030-9c90-f7c963878b6f\",                        [{\"colorbar\": {\"title\": {\"text\": \"Objective Value\"}}, \"colorscale\": [[0, \"rgb(220,220,220)\"], [0.30000000000000004, \"rgb(106,137,247)\"], [0.4, \"rgb(90,120,245)\"], [0.5, \"rgb(70,100,245)\"], [0.65, \"rgb(40,60,190)\"], [1, \"rgb(5,10,172)\"]], \"connectgaps\": true, \"contours\": {\"coloring\": \"heatmap\"}, \"hoverinfo\": \"none\", \"line\": {\"smoothing\": 1.3}, \"type\": \"contour\", \"x\": [0.0038544023496826646, 0.0721434709085722, 0.08892961318234899, 0.16898560286074893, 0.23144369980916862, 0.24599505164497332, 0.30159488653758276, 0.33264463733279837, 0.35648569345273934, 0.4935954449826253, 0.7462092451506586, 0.7900040134183104, 0.8023841866717214, 0.8818256327881758, 0.9279755472204556, 1.0236654114319539, 1.0681134278352216, 1.16448162164686, 1.1702353223816178, 1.2751328588467021, 1.4379248420863628, 1.5062139106452523], \"y\": [0.6499999999999999, 2, 4, 7, 8, 13, 15, 16, 17, 18, 19, 20, 21, 25, 27, 29, 30.35], \"z\": [[null, null, null, null, null, null, null, null, null, null, null, null, null, null, null, null, null, null, null, null, null, null], [null, null, null, null, 0.8501967046190873, null, null, null, null, null, null, null, null, null, null, null, null, null, null, null, null, null], [null, null, null, 0.8505068036656485, null, null, null, null, null, null, null, null, null, null, null, null, null, null, null, null, null, null], [null, null, null, null, null, null, null, null, null, null, null, null, null, null, null, null, null, null, null, null, 0.8515273535129131, null], [null, null, null, null, null, null, null, null, null, null, 0.8523002869573266, null, null, null, null, null, null, null, null, null, null, null], [null, null, null, null, null, null, null, null, null, null, null, null, null, null, null, null, null, 0.8507266500046283, null, null, null, null], [null, null, null, null, null, 0.8506155697491437, null, null, null, null, null, null, 0.8520873831343145, null, null, null, null, null, null, null, null, null], [null, null, null, null, null, null, null, null, null, null, null, null, null, null, null, null, 0.8517726557437748, null, null, null, null, null], [null, null, null, null, null, null, null, null, null, 0.8502568730908081, null, null, null, null, null, null, null, null, null, null, null, null], [null, null, null, null, null, null, null, null, null, null, null, 0.8516962880681291, null, null, null, null, null, null, null, 0.8525201332963066, null, null], [null, null, null, null, null, null, null, null, null, null, null, null, null, null, null, 0.8511478293066741, null, null, null, null, null, null], [null, null, null, null, null, null, null, null, null, null, null, null, null, 0.8511154308988244, null, null, null, null, 0.8531657872813108, null, null, null], [null, null, null, null, null, null, null, 0.8510598907710821, null, null, null, null, null, null, null, null, null, null, null, null, null, null], [null, 0.8507544200684994, null, null, null, null, null, null, 0.8523604554290474, null, null, null, null, null, 0.8521128390261963, null, null, null, null, null, null, null], [null, null, 0.853661020087013, null, null, null, null, null, null, null, null, null, null, null, null, null, null, null, null, null, null, null], [null, null, null, null, null, null, 0.8522308617976487, null, null, null, null, null, null, null, null, null, null, null, null, null, null, null], [null, null, null, null, null, null, null, null, null, null, null, null, null, null, null, null, null, null, null, null, null, null]]}, {\"marker\": {\"color\": \"black\", \"line\": {\"color\": \"Grey\", \"width\": 0.5}}, \"mode\": \"markers\", \"showlegend\": false, \"type\": \"scatter\", \"x\": [1.0236654114319539, 0.8023841866717214, 0.24599505164497332, 0.08892961318234899, 0.16898560286074893, 0.7900040134183104, 0.0721434709085722, 0.7462092451506586, 0.35648569345273934, 1.1702353223816178, 1.4379248420863628, 0.9279755472204556, 1.2751328588467021, 0.30159488653758276, 0.8818256327881758, 0.4935954449826253, 0.33264463733279837, 1.16448162164686, 0.23144369980916862, 1.0681134278352216], \"y\": [19, 15, 15, 27, 4, 18, 25, 8, 25, 20, 7, 25, 18, 29, 20, 17, 21, 13, 2, 16]}],                        {\"template\": {\"data\": {\"bar\": [{\"error_x\": {\"color\": \"#2a3f5f\"}, \"error_y\": {\"color\": \"#2a3f5f\"}, \"marker\": {\"line\": {\"color\": \"#E5ECF6\", \"width\": 0.5}}, \"type\": \"bar\"}], \"barpolar\": [{\"marker\": {\"line\": {\"color\": \"#E5ECF6\", \"width\": 0.5}}, \"type\": \"barpolar\"}], \"carpet\": [{\"aaxis\": {\"endlinecolor\": \"#2a3f5f\", \"gridcolor\": \"white\", \"linecolor\": \"white\", \"minorgridcolor\": \"white\", \"startlinecolor\": \"#2a3f5f\"}, \"baxis\": {\"endlinecolor\": \"#2a3f5f\", \"gridcolor\": \"white\", \"linecolor\": \"white\", \"minorgridcolor\": \"white\", \"startlinecolor\": \"#2a3f5f\"}, \"type\": \"carpet\"}], \"choropleth\": [{\"colorbar\": {\"outlinewidth\": 0, \"ticks\": \"\"}, \"type\": \"choropleth\"}], \"contour\": [{\"colorbar\": {\"outlinewidth\": 0, \"ticks\": \"\"}, \"colorscale\": [[0.0, \"#0d0887\"], [0.1111111111111111, \"#46039f\"], [0.2222222222222222, \"#7201a8\"], [0.3333333333333333, \"#9c179e\"], [0.4444444444444444, \"#bd3786\"], [0.5555555555555556, \"#d8576b\"], [0.6666666666666666, \"#ed7953\"], [0.7777777777777778, \"#fb9f3a\"], [0.8888888888888888, \"#fdca26\"], [1.0, \"#f0f921\"]], \"type\": \"contour\"}], \"contourcarpet\": [{\"colorbar\": {\"outlinewidth\": 0, \"ticks\": \"\"}, \"type\": \"contourcarpet\"}], \"heatmap\": [{\"colorbar\": {\"outlinewidth\": 0, \"ticks\": \"\"}, \"colorscale\": [[0.0, \"#0d0887\"], [0.1111111111111111, \"#46039f\"], [0.2222222222222222, \"#7201a8\"], [0.3333333333333333, \"#9c179e\"], [0.4444444444444444, \"#bd3786\"], [0.5555555555555556, \"#d8576b\"], [0.6666666666666666, \"#ed7953\"], [0.7777777777777778, \"#fb9f3a\"], [0.8888888888888888, \"#fdca26\"], [1.0, \"#f0f921\"]], \"type\": \"heatmap\"}], \"heatmapgl\": [{\"colorbar\": {\"outlinewidth\": 0, \"ticks\": \"\"}, \"colorscale\": [[0.0, \"#0d0887\"], [0.1111111111111111, \"#46039f\"], [0.2222222222222222, \"#7201a8\"], [0.3333333333333333, \"#9c179e\"], [0.4444444444444444, \"#bd3786\"], [0.5555555555555556, \"#d8576b\"], [0.6666666666666666, \"#ed7953\"], [0.7777777777777778, \"#fb9f3a\"], [0.8888888888888888, \"#fdca26\"], [1.0, \"#f0f921\"]], \"type\": \"heatmapgl\"}], \"histogram\": [{\"marker\": {\"colorbar\": {\"outlinewidth\": 0, \"ticks\": \"\"}}, \"type\": \"histogram\"}], \"histogram2d\": [{\"colorbar\": {\"outlinewidth\": 0, \"ticks\": \"\"}, \"colorscale\": [[0.0, \"#0d0887\"], [0.1111111111111111, \"#46039f\"], [0.2222222222222222, \"#7201a8\"], [0.3333333333333333, \"#9c179e\"], [0.4444444444444444, \"#bd3786\"], [0.5555555555555556, \"#d8576b\"], [0.6666666666666666, \"#ed7953\"], [0.7777777777777778, \"#fb9f3a\"], [0.8888888888888888, \"#fdca26\"], [1.0, \"#f0f921\"]], \"type\": \"histogram2d\"}], \"histogram2dcontour\": [{\"colorbar\": {\"outlinewidth\": 0, \"ticks\": \"\"}, \"colorscale\": [[0.0, \"#0d0887\"], [0.1111111111111111, \"#46039f\"], [0.2222222222222222, \"#7201a8\"], [0.3333333333333333, \"#9c179e\"], [0.4444444444444444, \"#bd3786\"], [0.5555555555555556, \"#d8576b\"], [0.6666666666666666, \"#ed7953\"], [0.7777777777777778, \"#fb9f3a\"], [0.8888888888888888, \"#fdca26\"], [1.0, \"#f0f921\"]], \"type\": \"histogram2dcontour\"}], \"mesh3d\": [{\"colorbar\": {\"outlinewidth\": 0, \"ticks\": \"\"}, \"type\": \"mesh3d\"}], \"parcoords\": [{\"line\": {\"colorbar\": {\"outlinewidth\": 0, \"ticks\": \"\"}}, \"type\": \"parcoords\"}], \"pie\": [{\"automargin\": true, \"type\": \"pie\"}], \"scatter\": [{\"marker\": {\"colorbar\": {\"outlinewidth\": 0, \"ticks\": \"\"}}, \"type\": \"scatter\"}], \"scatter3d\": [{\"line\": {\"colorbar\": {\"outlinewidth\": 0, \"ticks\": \"\"}}, \"marker\": {\"colorbar\": {\"outlinewidth\": 0, \"ticks\": \"\"}}, \"type\": \"scatter3d\"}], \"scattercarpet\": [{\"marker\": {\"colorbar\": {\"outlinewidth\": 0, \"ticks\": \"\"}}, \"type\": \"scattercarpet\"}], \"scattergeo\": [{\"marker\": {\"colorbar\": {\"outlinewidth\": 0, \"ticks\": \"\"}}, \"type\": \"scattergeo\"}], \"scattergl\": [{\"marker\": {\"colorbar\": {\"outlinewidth\": 0, \"ticks\": \"\"}}, \"type\": \"scattergl\"}], \"scattermapbox\": [{\"marker\": {\"colorbar\": {\"outlinewidth\": 0, \"ticks\": \"\"}}, \"type\": \"scattermapbox\"}], \"scatterpolar\": [{\"marker\": {\"colorbar\": {\"outlinewidth\": 0, \"ticks\": \"\"}}, \"type\": \"scatterpolar\"}], \"scatterpolargl\": [{\"marker\": {\"colorbar\": {\"outlinewidth\": 0, \"ticks\": \"\"}}, \"type\": \"scatterpolargl\"}], \"scatterternary\": [{\"marker\": {\"colorbar\": {\"outlinewidth\": 0, \"ticks\": \"\"}}, \"type\": \"scatterternary\"}], \"surface\": [{\"colorbar\": {\"outlinewidth\": 0, \"ticks\": \"\"}, \"colorscale\": [[0.0, \"#0d0887\"], [0.1111111111111111, \"#46039f\"], [0.2222222222222222, \"#7201a8\"], [0.3333333333333333, \"#9c179e\"], [0.4444444444444444, \"#bd3786\"], [0.5555555555555556, \"#d8576b\"], [0.6666666666666666, \"#ed7953\"], [0.7777777777777778, \"#fb9f3a\"], [0.8888888888888888, \"#fdca26\"], [1.0, \"#f0f921\"]], \"type\": \"surface\"}], \"table\": [{\"cells\": {\"fill\": {\"color\": \"#EBF0F8\"}, \"line\": {\"color\": \"white\"}}, \"header\": {\"fill\": {\"color\": \"#C8D4E3\"}, \"line\": {\"color\": \"white\"}}, \"type\": \"table\"}]}, \"layout\": {\"annotationdefaults\": {\"arrowcolor\": \"#2a3f5f\", \"arrowhead\": 0, \"arrowwidth\": 1}, \"autotypenumbers\": \"strict\", \"coloraxis\": {\"colorbar\": {\"outlinewidth\": 0, \"ticks\": \"\"}}, \"colorscale\": {\"diverging\": [[0, \"#8e0152\"], [0.1, \"#c51b7d\"], [0.2, \"#de77ae\"], [0.3, \"#f1b6da\"], [0.4, \"#fde0ef\"], [0.5, \"#f7f7f7\"], [0.6, \"#e6f5d0\"], [0.7, \"#b8e186\"], [0.8, \"#7fbc41\"], [0.9, \"#4d9221\"], [1, \"#276419\"]], \"sequential\": [[0.0, \"#0d0887\"], [0.1111111111111111, \"#46039f\"], [0.2222222222222222, \"#7201a8\"], [0.3333333333333333, \"#9c179e\"], [0.4444444444444444, \"#bd3786\"], [0.5555555555555556, \"#d8576b\"], [0.6666666666666666, \"#ed7953\"], [0.7777777777777778, \"#fb9f3a\"], [0.8888888888888888, \"#fdca26\"], [1.0, \"#f0f921\"]], \"sequentialminus\": [[0.0, \"#0d0887\"], [0.1111111111111111, \"#46039f\"], [0.2222222222222222, \"#7201a8\"], [0.3333333333333333, \"#9c179e\"], [0.4444444444444444, \"#bd3786\"], [0.5555555555555556, \"#d8576b\"], [0.6666666666666666, \"#ed7953\"], [0.7777777777777778, \"#fb9f3a\"], [0.8888888888888888, \"#fdca26\"], [1.0, \"#f0f921\"]]}, \"colorway\": [\"#636efa\", \"#EF553B\", \"#00cc96\", \"#ab63fa\", \"#FFA15A\", \"#19d3f3\", \"#FF6692\", \"#B6E880\", \"#FF97FF\", \"#FECB52\"], \"font\": {\"color\": \"#2a3f5f\"}, \"geo\": {\"bgcolor\": \"white\", \"lakecolor\": \"white\", \"landcolor\": \"#E5ECF6\", \"showlakes\": true, \"showland\": true, \"subunitcolor\": \"white\"}, \"hoverlabel\": {\"align\": \"left\"}, \"hovermode\": \"closest\", \"mapbox\": {\"style\": \"light\"}, \"paper_bgcolor\": \"white\", \"plot_bgcolor\": \"#E5ECF6\", \"polar\": {\"angularaxis\": {\"gridcolor\": \"white\", \"linecolor\": \"white\", \"ticks\": \"\"}, \"bgcolor\": \"#E5ECF6\", \"radialaxis\": {\"gridcolor\": \"white\", \"linecolor\": \"white\", \"ticks\": \"\"}}, \"scene\": {\"xaxis\": {\"backgroundcolor\": \"#E5ECF6\", \"gridcolor\": \"white\", \"gridwidth\": 2, \"linecolor\": \"white\", \"showbackground\": true, \"ticks\": \"\", \"zerolinecolor\": \"white\"}, \"yaxis\": {\"backgroundcolor\": \"#E5ECF6\", \"gridcolor\": \"white\", \"gridwidth\": 2, \"linecolor\": \"white\", \"showbackground\": true, \"ticks\": \"\", \"zerolinecolor\": \"white\"}, \"zaxis\": {\"backgroundcolor\": \"#E5ECF6\", \"gridcolor\": \"white\", \"gridwidth\": 2, \"linecolor\": \"white\", \"showbackground\": true, \"ticks\": \"\", \"zerolinecolor\": \"white\"}}, \"shapedefaults\": {\"line\": {\"color\": \"#2a3f5f\"}}, \"ternary\": {\"aaxis\": {\"gridcolor\": \"white\", \"linecolor\": \"white\", \"ticks\": \"\"}, \"baxis\": {\"gridcolor\": \"white\", \"linecolor\": \"white\", \"ticks\": \"\"}, \"bgcolor\": \"#E5ECF6\", \"caxis\": {\"gridcolor\": \"white\", \"linecolor\": \"white\", \"ticks\": \"\"}}, \"title\": {\"x\": 0.05}, \"xaxis\": {\"automargin\": true, \"gridcolor\": \"white\", \"linecolor\": \"white\", \"ticks\": \"\", \"title\": {\"standoff\": 15}, \"zerolinecolor\": \"white\", \"zerolinewidth\": 2}, \"yaxis\": {\"automargin\": true, \"gridcolor\": \"white\", \"linecolor\": \"white\", \"ticks\": \"\", \"title\": {\"standoff\": 15}, \"zerolinecolor\": \"white\", \"zerolinewidth\": 2}}}, \"title\": {\"text\": \"Contour Plot\"}, \"xaxis\": {\"range\": [0.0038544023496826646, 1.5062139106452523], \"title\": {\"text\": \"bagging_temperature\"}}, \"yaxis\": {\"range\": [0.6499999999999999, 30.35], \"title\": {\"text\": \"l2_leaf_reg\"}}},                        {\"responsive\": true}                    ).then(function(){\n",
       "                            \n",
       "var gd = document.getElementById('6d2e5938-3dc4-4030-9c90-f7c963878b6f');\n",
       "var x = new MutationObserver(function (mutations, observer) {{\n",
       "        var display = window.getComputedStyle(gd).display;\n",
       "        if (!display || display === 'none') {{\n",
       "            console.log([gd, 'removed!']);\n",
       "            Plotly.purge(gd);\n",
       "            observer.disconnect();\n",
       "        }}\n",
       "}});\n",
       "\n",
       "// Listen for the removal of the full notebook cells\n",
       "var notebookContainer = gd.closest('#notebook-container');\n",
       "if (notebookContainer) {{\n",
       "    x.observe(notebookContainer, {childList: true});\n",
       "}}\n",
       "\n",
       "// Listen for the clearing of the current output cell\n",
       "var outputEl = gd.closest('.output');\n",
       "if (outputEl) {{\n",
       "    x.observe(outputEl, {childList: true});\n",
       "}}\n",
       "\n",
       "                        })                };                });            </script>        </div>"
      ]
     },
     "metadata": {},
     "output_type": "display_data"
    }
   ],
   "source": [
    "optuna.visualization.plot_contour(study, params=['l2_leaf_reg', 'bagging_temperature'])"
   ]
  },
  {
   "cell_type": "markdown",
   "metadata": {},
   "source": [
    "#### Предсказания"
   ]
  },
  {
   "cell_type": "code",
   "execution_count": 39,
   "metadata": {},
   "outputs": [],
   "source": [
    "train_pool = Pool(df_train.drop('Churn', axis=1).fillna(-9999),df_train['Churn'], cat_features=category_columns)\n",
    "model_ctb = CatBoostClassifier(\n",
    "    bagging_temperature=0.08892961318234899,\n",
    "    l2_leaf_reg=27,\n",
    "    random_strength=0.12494631006738106,\n",
    "    auto_class_weights='Balanced',\n",
    "    learning_rate=0.011,\n",
    "    iterations=2000,\n",
    "    random_seed=123,\n",
    "    logging_level='Silent',\n",
    "    depth=12)"
   ]
  },
  {
   "cell_type": "code",
   "execution_count": 40,
   "metadata": {},
   "outputs": [
    {
     "data": {
      "text/plain": [
       "<catboost.core.CatBoostClassifier at 0x7f5cad2a72e0>"
      ]
     },
     "execution_count": 40,
     "metadata": {},
     "output_type": "execute_result"
    }
   ],
   "source": [
    "model_ctb.fit(train_pool)"
   ]
  },
  {
   "cell_type": "code",
   "execution_count": 41,
   "metadata": {},
   "outputs": [],
   "source": [
    "submission = pd.DataFrame()\n",
    "submission['Churn'] = model_ctb.predict_proba(df_test)[:, 1]\n",
    "submission.index.name = 'id'\n",
    "submission.to_csv('submission_v4.csv')"
   ]
  },
  {
   "cell_type": "code",
   "execution_count": 42,
   "metadata": {},
   "outputs": [
    {
     "name": "stdout",
     "output_type": "stream",
     "text": [
      "Warning: Looks like you're using an outdated API Version, please consider updating (server 1.5.12 / client 1.5.10)\n",
      "100%|██████████████████████████████████████| 41.4k/41.4k [00:06<00:00, 6.44kB/s]\n",
      "Successfully submitted to Предсказание оттока пользователей (весна 2021)"
     ]
    }
   ],
   "source": [
    "!kaggle competitions submit -f submission_v4.csv advanced-dls-spring-2021 -m 'v4'"
   ]
  },
  {
   "cell_type": "code",
   "execution_count": 43,
   "metadata": {},
   "outputs": [
    {
     "name": "stdout",
     "output_type": "stream",
     "text": [
      "Warning: Looks like you're using an outdated API Version, please consider updating (server 1.5.12 / client 1.5.10)\n",
      "fileName           date                 description  status    publicScore  privateScore  \n",
      "-----------------  -------------------  -----------  --------  -----------  ------------  \n",
      "submission_v4.csv  2021-03-21 01:48:51  v4           complete  0.83244      None          \n",
      "submission_v3.csv  2021-03-17 00:19:37  v3           complete  0.84430      None          \n",
      "submission_v2.csv  2021-03-15 23:39:33  v2           complete  0.84480      None          \n",
      "submission_v1.csv  2021-03-15 23:39:13  v2           complete  0.82856      None          \n",
      "submission_v1.csv  2021-03-15 23:01:43  v1           complete  0.82856      None          \n"
     ]
    }
   ],
   "source": [
    "!kaggle competitions submissions advanced-dls-spring-2021"
   ]
  }
 ],
 "metadata": {
  "kernelspec": {
   "display_name": "Python 3",
   "language": "python",
   "name": "python3"
  },
  "language_info": {
   "codemirror_mode": {
    "name": "ipython",
    "version": 3
   },
   "file_extension": ".py",
   "mimetype": "text/x-python",
   "name": "python",
   "nbconvert_exporter": "python",
   "pygments_lexer": "ipython3",
   "version": "3.9.2"
  }
 },
 "nbformat": 4,
 "nbformat_minor": 4
}
